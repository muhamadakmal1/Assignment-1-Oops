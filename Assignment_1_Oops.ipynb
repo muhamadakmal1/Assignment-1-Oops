{
  "nbformat": 4,
  "nbformat_minor": 0,
  "metadata": {
    "colab": {
      "provenance": []
    },
    "kernelspec": {
      "name": "python3",
      "display_name": "Python 3"
    },
    "language_info": {
      "name": "python"
    }
  },
  "cells": [
    {
      "cell_type": "markdown",
      "source": [
        "# Assignment - 1:Oops"
      ],
      "metadata": {
        "id": "3ezkKCJOyX1q"
      }
    },
    {
      "cell_type": "markdown",
      "source": [
        "**Problem 1: Bank Account Create a class representing a bank account with attributes like account number, account holder name, and balance. Implement methods to deposit and withdraw money from the account.**"
      ],
      "metadata": {
        "id": "WpL_YLUowCeh"
      }
    },
    {
      "cell_type": "code",
      "source": [
        "class BankAccount:\n",
        "    def __init__(self, account_number, account_holder_name, balance=0.0):\n",
        "        self.account_number = account_number\n",
        "        self.account_holder_name = account_holder_name\n",
        "        self.balance = balance\n",
        "\n",
        "    def deposit(self, amount):\n",
        "        if amount > 0:\n",
        "            self.balance += amount\n",
        "            print(f\"Deposited {amount}. New balance is {self.balance}.\")\n",
        "        else:\n",
        "            print(\"Deposit amount must be positive.\")\n",
        "\n",
        "    def withdraw(self, amount):\n",
        "        if amount > 0:\n",
        "            if self.balance >= amount:\n",
        "                self.balance -= amount\n",
        "                print(f\"Withdrew {amount}. New balance is {self.balance}.\")\n",
        "            else:\n",
        "                print(\"Insufficient funds.\")\n",
        "        else:\n",
        "            print(\"Withdrawal amount must be positive.\")\n",
        "\n",
        "# Example usage:\n",
        "account = BankAccount(\"12345678\", \"John Doe\", 1000)\n",
        "account.deposit(500)\n",
        "account.withdraw(200)\n",
        "account.withdraw(1500)\n"
      ],
      "metadata": {
        "colab": {
          "base_uri": "https://localhost:8080/"
        },
        "id": "IbcSvoGgwA_0",
        "outputId": "3899ff5a-e0fe-4692-912b-51f6ffd249e6"
      },
      "execution_count": 1,
      "outputs": [
        {
          "output_type": "stream",
          "name": "stdout",
          "text": [
            "Deposited 500. New balance is 1500.\n",
            "Withdrew 200. New balance is 1300.\n",
            "Insufficient funds.\n"
          ]
        }
      ]
    },
    {
      "cell_type": "markdown",
      "source": [
        "**Problem 2: Employee Management Create a class representing an employee with attributes like employee ID, name, and salary. Implement methods to calculate the yearly bonus and display employee details.**"
      ],
      "metadata": {
        "id": "-yxtMwNnwSjk"
      }
    },
    {
      "cell_type": "code",
      "execution_count": 2,
      "metadata": {
        "id": "27yOJTYlWgWZ",
        "colab": {
          "base_uri": "https://localhost:8080/"
        },
        "outputId": "f54d89e5-684a-4c6b-9e1f-f4f3a3f5bc80"
      },
      "outputs": [
        {
          "output_type": "stream",
          "name": "stdout",
          "text": [
            "Employee ID: E123\n",
            "Name: Alice Smith\n",
            "Salary: 60000\n",
            "Yearly Bonus: 6000.0\n"
          ]
        }
      ],
      "source": [
        "class Employee:\n",
        "    def __init__(self, employee_id, name, salary):\n",
        "        self.employee_id = employee_id\n",
        "        self.name = name\n",
        "        self.salary = salary\n",
        "\n",
        "    def calculate_yearly_bonus(self, bonus_percentage):\n",
        "        \"\"\"Calculate the yearly bonus based on the given bonus percentage.\"\"\"\n",
        "        bonus = self.salary * (bonus_percentage / 100)\n",
        "        return bonus\n",
        "\n",
        "    def display_details(self):\n",
        "        \"\"\"Display the employee details.\"\"\"\n",
        "        print(f\"Employee ID: {self.employee_id}\")\n",
        "        print(f\"Name: {self.name}\")\n",
        "        print(f\"Salary: {self.salary}\")\n",
        "\n",
        "# Example usage:\n",
        "employee = Employee(\"E123\", \"Alice Smith\", 60000)\n",
        "employee.display_details()\n",
        "bonus = employee.calculate_yearly_bonus(10)\n",
        "print(f\"Yearly Bonus: {bonus}\")\n"
      ]
    },
    {
      "cell_type": "markdown",
      "source": [
        "**Problem 3: Vehicle Rental Create a class representing a vehicle rental system. Implement methods to rent a vehicle, return a vehicle, and display available vehicles.**"
      ],
      "metadata": {
        "id": "Xi-IiKWJwYUO"
      }
    },
    {
      "cell_type": "code",
      "source": [
        "class VehicleRentalSystem:\n",
        "    def __init__(self):\n",
        "        self.available_vehicles = []\n",
        "        self.rented_vehicles = []\n",
        "\n",
        "    def add_vehicle(self, vehicle_id, vehicle_type):\n",
        "        \"\"\"Add a new vehicle to the available vehicles list.\"\"\"\n",
        "        vehicle = {\"vehicle_id\": vehicle_id, \"vehicle_type\": vehicle_type}\n",
        "        self.available_vehicles.append(vehicle)\n",
        "\n",
        "    def rent_vehicle(self, vehicle_id):\n",
        "        \"\"\"Rent a vehicle if it is available.\"\"\"\n",
        "        for vehicle in self.available_vehicles:\n",
        "            if vehicle[\"vehicle_id\"] == vehicle_id:\n",
        "                self.available_vehicles.remove(vehicle)\n",
        "                self.rented_vehicles.append(vehicle)\n",
        "                print(f\"Vehicle {vehicle_id} rented successfully.\")\n",
        "                return\n",
        "        print(f\"Vehicle {vehicle_id} is not available for rent.\")\n",
        "\n",
        "    def return_vehicle(self, vehicle_id):\n",
        "        \"\"\"Return a rented vehicle.\"\"\"\n",
        "        for vehicle in self.rented_vehicles:\n",
        "            if vehicle[\"vehicle_id\"] == vehicle_id:\n",
        "                self.rented_vehicles.remove(vehicle)\n",
        "                self.available_vehicles.append(vehicle)\n",
        "                print(f\"Vehicle {vehicle_id} returned successfully.\")\n",
        "                return\n",
        "        print(f\"Vehicle {vehicle_id} is not rented from this system.\")\n",
        "\n",
        "    def display_available_vehicles(self):\n",
        "        \"\"\"Display the list of available vehicles.\"\"\"\n",
        "        if not self.available_vehicles:\n",
        "            print(\"No vehicles available for rent.\")\n",
        "        else:\n",
        "            print(\"Available vehicles:\")\n",
        "            for vehicle in self.available_vehicles:\n",
        "                print(f\"ID: {vehicle['vehicle_id']}, Type: {vehicle['vehicle_type']}\")\n",
        "\n",
        "# Example usage:\n",
        "vehicle_rental = VehicleRentalSystem()\n",
        "vehicle_rental.add_vehicle(\"V001\", \"Car\")\n",
        "vehicle_rental.add_vehicle(\"V002\", \"Bike\")\n",
        "vehicle_rental.add_vehicle(\"V003\", \"Truck\")\n",
        "\n",
        "vehicle_rental.display_available_vehicles()\n",
        "vehicle_rental.rent_vehicle(\"V001\")\n",
        "vehicle_rental.display_available_vehicles()\n",
        "vehicle_rental.return_vehicle(\"V001\")\n",
        "vehicle_rental.display_available_vehicles()\n"
      ],
      "metadata": {
        "id": "oXFbz2t6WspA",
        "colab": {
          "base_uri": "https://localhost:8080/"
        },
        "outputId": "e45d0318-a542-404c-e366-8dff6f968383"
      },
      "execution_count": 4,
      "outputs": [
        {
          "output_type": "stream",
          "name": "stdout",
          "text": [
            "Available vehicles:\n",
            "ID: V001, Type: Car\n",
            "ID: V002, Type: Bike\n",
            "ID: V003, Type: Truck\n",
            "Vehicle V001 rented successfully.\n",
            "Available vehicles:\n",
            "ID: V002, Type: Bike\n",
            "ID: V003, Type: Truck\n",
            "Vehicle V001 returned successfully.\n",
            "Available vehicles:\n",
            "ID: V002, Type: Bike\n",
            "ID: V003, Type: Truck\n",
            "ID: V001, Type: Car\n"
          ]
        }
      ]
    },
    {
      "cell_type": "markdown",
      "source": [
        "**Problem 4: Library Catalog Create classes representing a library and a book. Implement methods to add books to the library, borrow books, and display available books.**"
      ],
      "metadata": {
        "id": "AfQtZTBFwwKk"
      }
    },
    {
      "cell_type": "code",
      "source": [
        "class Book:\n",
        "    def __init__(self, book_id, title, author):\n",
        "        self.book_id = book_id\n",
        "        self.title = title\n",
        "        self.author = author\n",
        "        self.is_borrowed = False\n",
        "\n",
        "class Library:\n",
        "    def __init__(self):\n",
        "        self.books = []\n",
        "\n",
        "    def add_book(self, book_id, title, author):\n",
        "        \"\"\"Add a new book to the library.\"\"\"\n",
        "        new_book = Book(book_id, title, author)\n",
        "        self.books.append(new_book)\n",
        "        print(f\"Book '{title}' by {author} added to the library.\")\n",
        "\n",
        "    def borrow_book(self, book_id):\n",
        "        \"\"\"Borrow a book from the library if it is available.\"\"\"\n",
        "        for book in self.books:\n",
        "            if book.book_id == book_id:\n",
        "                if not book.is_borrowed:\n",
        "                    book.is_borrowed = True\n",
        "                    print(f\"Book '{book.title}' has been borrowed.\")\n",
        "                    return\n",
        "                else:\n",
        "                    print(f\"Book '{book.title}' is already borrowed.\")\n",
        "                    return\n",
        "        print(f\"Book with ID {book_id} not found in the library.\")\n",
        "\n",
        "    def display_available_books(self):\n",
        "        \"\"\"Display the list of available books.\"\"\"\n",
        "        available_books = [book for book in self.books if not book.is_borrowed]\n",
        "        if not available_books:\n",
        "            print(\"No books available for borrowing.\")\n",
        "        else:\n",
        "            print(\"Available books:\")\n",
        "            for book in available_books:\n",
        "                print(f\"ID: {book.book_id}, Title: '{book.title}', Author: {book.author}\")\n",
        "\n",
        "# Example usage:\n",
        "library = Library()\n",
        "library.add_book(\"B001\", \"The Great Gatsby\", \"F. Scott Fitzgerald\")\n",
        "library.add_book(\"B002\", \"To Kill a Mockingbird\", \"Harper Lee\")\n",
        "library.add_book(\"B003\", \"1984\", \"George Orwell\")\n",
        "\n",
        "library.display_available_books()\n",
        "library.borrow_book(\"B001\")\n",
        "library.display_available_books()\n",
        "library.borrow_book(\"B001\")\n",
        "library.borrow_book(\"B004\")\n"
      ],
      "metadata": {
        "id": "h3-92aSFD7F-",
        "colab": {
          "base_uri": "https://localhost:8080/"
        },
        "outputId": "5873293c-44e4-44c9-87bb-feb0a0cd3999"
      },
      "execution_count": 5,
      "outputs": [
        {
          "output_type": "stream",
          "name": "stdout",
          "text": [
            "Book 'The Great Gatsby' by F. Scott Fitzgerald added to the library.\n",
            "Book 'To Kill a Mockingbird' by Harper Lee added to the library.\n",
            "Book '1984' by George Orwell added to the library.\n",
            "Available books:\n",
            "ID: B001, Title: 'The Great Gatsby', Author: F. Scott Fitzgerald\n",
            "ID: B002, Title: 'To Kill a Mockingbird', Author: Harper Lee\n",
            "ID: B003, Title: '1984', Author: George Orwell\n",
            "Book 'The Great Gatsby' has been borrowed.\n",
            "Available books:\n",
            "ID: B002, Title: 'To Kill a Mockingbird', Author: Harper Lee\n",
            "ID: B003, Title: '1984', Author: George Orwell\n",
            "Book 'The Great Gatsby' is already borrowed.\n",
            "Book with ID B004 not found in the library.\n"
          ]
        }
      ]
    },
    {
      "cell_type": "markdown",
      "source": [
        "**Problem 5: Product Inventory Create classes representing a product and an inventory system. Implement methods to add products to the inventory, update product quantity, and display available products.**"
      ],
      "metadata": {
        "id": "Ga3tb7zAxGMg"
      }
    },
    {
      "cell_type": "code",
      "source": [
        "class Product:\n",
        "    def __init__(self, product_id, name, price, quantity):\n",
        "        self.product_id = product_id\n",
        "        self.name = name\n",
        "        self.price = price\n",
        "        self.quantity = quantity\n",
        "\n",
        "class Inventory:\n",
        "    def __init__(self):\n",
        "        self.products = []\n",
        "\n",
        "    def add_product(self, product_id, name, price, quantity):\n",
        "        \"\"\"Add a new product to the inventory.\"\"\"\n",
        "        new_product = Product(product_id, name, price, quantity)\n",
        "        self.products.append(new_product)\n",
        "        print(f\"Product '{name}' added to the inventory.\")\n",
        "\n",
        "    def update_quantity(self, product_id, quantity):\n",
        "        \"\"\"Update the quantity of a product in the inventory.\"\"\"\n",
        "        for product in self.products:\n",
        "            if product.product_id == product_id:\n",
        "                product.quantity = quantity\n",
        "                print(f\"Product '{product.name}' quantity updated to {quantity}.\")\n",
        "                return\n",
        "        print(f\"Product with ID {product_id} not found in the inventory.\")\n",
        "\n",
        "    def display_available_products(self):\n",
        "        \"\"\"Display the list of available products.\"\"\"\n",
        "        if not self.products:\n",
        "            print(\"No products available in the inventory.\")\n",
        "        else:\n",
        "            print(\"Available products:\")\n",
        "            for product in self.products:\n",
        "                print(f\"ID: {product.product_id}, Name: '{product.name}', Price: {product.price}, Quantity: {product.quantity}\")\n",
        "\n",
        "# Example usage:\n",
        "inventory = Inventory()\n",
        "inventory.add_product(\"P001\", \"Laptop\", 1200.00, 10)\n",
        "inventory.add_product(\"P002\", \"Smartphone\", 800.00, 25)\n",
        "inventory.add_product(\"P003\", \"Tablet\", 300.00, 15)\n",
        "\n",
        "inventory.display_available_products()\n",
        "inventory.update_quantity(\"P002\", 20)\n",
        "inventory.display_available_products()\n",
        "inventory.update_quantity(\"P004\", 5)\n"
      ],
      "metadata": {
        "id": "O7gA8iFdh68x",
        "outputId": "0043de29-dc50-45d4-8b41-412c575989e3",
        "colab": {
          "base_uri": "https://localhost:8080/"
        }
      },
      "execution_count": 6,
      "outputs": [
        {
          "output_type": "stream",
          "name": "stdout",
          "text": [
            "Product 'Laptop' added to the inventory.\n",
            "Product 'Smartphone' added to the inventory.\n",
            "Product 'Tablet' added to the inventory.\n",
            "Available products:\n",
            "ID: P001, Name: 'Laptop', Price: 1200.0, Quantity: 10\n",
            "ID: P002, Name: 'Smartphone', Price: 800.0, Quantity: 25\n",
            "ID: P003, Name: 'Tablet', Price: 300.0, Quantity: 15\n",
            "Product 'Smartphone' quantity updated to 20.\n",
            "Available products:\n",
            "ID: P001, Name: 'Laptop', Price: 1200.0, Quantity: 10\n",
            "ID: P002, Name: 'Smartphone', Price: 800.0, Quantity: 20\n",
            "ID: P003, Name: 'Tablet', Price: 300.0, Quantity: 15\n",
            "Product with ID P004 not found in the inventory.\n"
          ]
        }
      ]
    },
    {
      "cell_type": "markdown",
      "source": [
        "\n",
        "**Problem 6: Shape Calculation Create a class representing a shape with attributes like length, width, and height. Implement methods to calculate the area and perimeter of the shape.**"
      ],
      "metadata": {
        "id": "GsjnSkYExQzS"
      }
    },
    {
      "cell_type": "code",
      "source": [
        "class Shape:\n",
        "    def __init__(self, length, width, height=None):\n",
        "        self.length = length\n",
        "        self.width = width\n",
        "        self.height = height  # Height can be optional for 2D shapes\n",
        "\n",
        "    def calculate_area(self):\n",
        "        \"\"\"Calculate the area of the shape.\"\"\"\n",
        "        if self.height is None:\n",
        "            # For 2D shapes like rectangle\n",
        "            return self.length * self.width\n",
        "        else:\n",
        "            # For 3D shapes like rectangular prism (surface area)\n",
        "            lw = self.length * self.width\n",
        "            lh = self.length * self.height\n",
        "            wh = self.width * self.height\n",
        "            return 2 * (lw + lh + wh)\n",
        "\n",
        "    def calculate_perimeter(self):\n",
        "        \"\"\"Calculate the perimeter of the shape.\"\"\"\n",
        "        if self.height is None:\n",
        "            # For 2D shapes like rectangle\n",
        "            return 2 * (self.length + self.width)\n",
        "        else:\n",
        "            # For 3D shapes like rectangular prism (edge length sum)\n",
        "            return 4 * (self.length + self.width + self.height)\n",
        "\n",
        "# Example usage:\n",
        "shape_2d = Shape(5, 3)\n",
        "print(f\"2D Shape - Area: {shape_2d.calculate_area()}, Perimeter: {shape_2d.calculate_perimeter()}\")\n",
        "\n",
        "shape_3d = Shape(5, 3, 4)\n",
        "print(f\"3D Shape - Surface Area: {shape_3d.calculate_area()}, Edge Length Sum: {shape_3d.calculate_perimeter()}\")\n"
      ],
      "metadata": {
        "colab": {
          "base_uri": "https://localhost:8080/"
        },
        "id": "K8poZMUb-ziL",
        "outputId": "fee02a4a-b0eb-436e-e68e-47c84af3c5cc"
      },
      "execution_count": 7,
      "outputs": [
        {
          "output_type": "stream",
          "name": "stdout",
          "text": [
            "2D Shape - Area: 15, Perimeter: 16\n",
            "3D Shape - Surface Area: 94, Edge Length Sum: 48\n"
          ]
        }
      ]
    },
    {
      "cell_type": "markdown",
      "source": [
        "**Problem 7: Student Management Create a class representing a student with attributes like student ID, name, and grades. Implement methods to calculate the average grade and display student details.**"
      ],
      "metadata": {
        "id": "IoXGoJ2RxbGx"
      }
    },
    {
      "source": [
        "class Student:\n",
        "    def __init__(self, student_id, name, grades=None):\n",
        "        self.student_id = student_id\n",
        "        self.name = name\n",
        "        self.grades = grades if grades is not None else []\n",
        "\n",
        "    def add_grade(self, grade):\n",
        "        \"\"\"Add a grade to the student's list of grades.\"\"\"\n",
        "        self.grades.append(grade)\n",
        "        print(f\"Grade {grade} added for student {self.name}.\")\n",
        "\n",
        "    def calculate_average_grade(self):\n",
        "        \"\"\"Calculate the average grade of the student.\"\"\"\n",
        "        if not self.grades:\n",
        "            return 0\n",
        "        return sum(self.grades) / len(self.grades)\n",
        "\n",
        "    def display_details(self):\n",
        "        \"\"\"Display the student's details.\"\"\"\n",
        "        print(f\"Student ID: {self.student_id}\")\n",
        "        print(f\"Name: {self.name}\")\n",
        "        print(f\"Grades: {self.grades}\")\n",
        "        print(f\"Average Grade: {self.calculate_average_grade():.2f}\")\n",
        "\n",
        "# Example usage:\n",
        "student = Student(\"S123\", \"John Doe\")\n",
        "student.add_grade(85)\n",
        "student.add_grade(90)\n",
        "student.add_grade(78)\n",
        "student.display_details()\n"
      ],
      "cell_type": "code",
      "metadata": {
        "id": "8P5Nmyq2_NDy",
        "outputId": "aff31f21-0c63-4a3d-eba3-25f8f5d11be3",
        "colab": {
          "base_uri": "https://localhost:8080/"
        }
      },
      "execution_count": 8,
      "outputs": [
        {
          "output_type": "stream",
          "name": "stdout",
          "text": [
            "Grade 85 added for student John Doe.\n",
            "Grade 90 added for student John Doe.\n",
            "Grade 78 added for student John Doe.\n",
            "Student ID: S123\n",
            "Name: John Doe\n",
            "Grades: [85, 90, 78]\n",
            "Average Grade: 84.33\n"
          ]
        }
      ]
    },
    {
      "cell_type": "markdown",
      "source": [
        "**Problem 8: Email Management Create a class representing an email with attributes like sender, recipient, and subject. Implement methods to send an email and display email details.**"
      ],
      "metadata": {
        "id": "A1_6QCxlx1Jy"
      }
    },
    {
      "cell_type": "code",
      "source": [
        "class Email:\n",
        "    def __init__(self, sender, recipient, subject, body):\n",
        "        self.sender = sender\n",
        "        self.recipient = recipient\n",
        "        self.subject = subject\n",
        "        self.body = body\n",
        "        self.is_sent = False\n",
        "\n",
        "    def send_email(self):\n",
        "        \"\"\"Simulate sending the email.\"\"\"\n",
        "        if not self.is_sent:\n",
        "            self.is_sent = True\n",
        "            print(f\"Email sent from {self.sender} to {self.recipient} with subject '{self.subject}'.\")\n",
        "        else:\n",
        "            print(\"Email has already been sent.\")\n",
        "\n",
        "    def display_email_details(self):\n",
        "        \"\"\"Display the email details.\"\"\"\n",
        "        status = \"Sent\" if self.is_sent else \"Not Sent\"\n",
        "        print(f\"Sender: {self.sender}\")\n",
        "        print(f\"Recipient: {self.recipient}\")\n",
        "        print(f\"Subject: {self.subject}\")\n",
        "        print(f\"Body: {self.body}\")\n",
        "        print(f\"Status: {status}\")\n",
        "\n",
        "# Example usage:\n",
        "email = Email(\"john.doe@example.com\", \"jane.smith@example.com\", \"Meeting Reminder\", \"Don't forget about our meeting at 10 AM tomorrow.\")\n",
        "email.display_email_details()\n",
        "email.send_email()\n",
        "email.display_email_details()\n",
        "email.send_email()  # Attempt to send again\n"
      ],
      "metadata": {
        "id": "wjC6Duk0-2oW",
        "colab": {
          "base_uri": "https://localhost:8080/"
        },
        "outputId": "2ad170f4-489c-4661-e94d-c971c9a32214"
      },
      "execution_count": 9,
      "outputs": [
        {
          "output_type": "stream",
          "name": "stdout",
          "text": [
            "Sender: john.doe@example.com\n",
            "Recipient: jane.smith@example.com\n",
            "Subject: Meeting Reminder\n",
            "Body: Don't forget about our meeting at 10 AM tomorrow.\n",
            "Status: Not Sent\n",
            "Email sent from john.doe@example.com to jane.smith@example.com with subject 'Meeting Reminder'.\n",
            "Sender: john.doe@example.com\n",
            "Recipient: jane.smith@example.com\n",
            "Subject: Meeting Reminder\n",
            "Body: Don't forget about our meeting at 10 AM tomorrow.\n",
            "Status: Sent\n",
            "Email has already been sent.\n"
          ]
        }
      ]
    },
    {
      "cell_type": "markdown",
      "source": [
        "**Problem 9: Social Media Profile Create a class representing a social media profile with attributes like username and posts. Implement methods to add posts, display posts, and search for posts by keyword.**"
      ],
      "metadata": {
        "id": "fAMGs9aUx4Dx"
      }
    },
    {
      "cell_type": "code",
      "source": [
        "class SocialMediaProfile:\n",
        "    def __init__(self, username):\n",
        "        self.username = username\n",
        "        self.posts = []\n",
        "\n",
        "    def add_post(self, content):\n",
        "        \"\"\"Add a new post to the profile.\"\"\"\n",
        "        self.posts.append(content)\n",
        "        print(f\"New post added by {self.username}.\")\n",
        "\n",
        "    def display_posts(self):\n",
        "        \"\"\"Display all posts.\"\"\"\n",
        "        if not self.posts:\n",
        "            print(f\"{self.username} has no posts.\")\n",
        "        else:\n",
        "            print(f\"Posts by {self.username}:\")\n",
        "            for i, post in enumerate(self.posts, 1):\n",
        "                print(f\"{i}. {post}\")\n",
        "\n",
        "    def search_posts(self, keyword):\n",
        "        \"\"\"Search for posts containing the given keyword.\"\"\"\n",
        "        results = [post for post in self.posts if keyword.lower() in post.lower()]\n",
        "        if not results:\n",
        "            print(f\"No posts found containing the keyword '{keyword}'.\")\n",
        "        else:\n",
        "            print(f\"Posts containing the keyword '{keyword}':\")\n",
        "            for i, post in enumerate(results, 1):\n",
        "                print(f\"{i}. {post}\")\n",
        "\n",
        "# Example usage:\n",
        "profile = SocialMediaProfile(\"john_doe\")\n",
        "profile.add_post(\"Hello world!\")\n",
        "profile.add_post(\"Learning Python is fun.\")\n",
        "profile.add_post(\"Just finished a great workout.\")\n",
        "profile.display_posts()\n",
        "profile.search_posts(\"python\")\n",
        "profile.search_posts(\"workout\")\n",
        "profile.search_posts(\"coffee\")\n"
      ],
      "metadata": {
        "colab": {
          "base_uri": "https://localhost:8080/"
        },
        "id": "oiRiFhCDx3rz",
        "outputId": "2ccc7d3b-d987-46d0-db01-62a53c28e912"
      },
      "execution_count": 10,
      "outputs": [
        {
          "output_type": "stream",
          "name": "stdout",
          "text": [
            "New post added by john_doe.\n",
            "New post added by john_doe.\n",
            "New post added by john_doe.\n",
            "Posts by john_doe:\n",
            "1. Hello world!\n",
            "2. Learning Python is fun.\n",
            "3. Just finished a great workout.\n",
            "Posts containing the keyword 'python':\n",
            "1. Learning Python is fun.\n",
            "Posts containing the keyword 'workout':\n",
            "1. Just finished a great workout.\n",
            "No posts found containing the keyword 'coffee'.\n"
          ]
        }
      ]
    },
    {
      "cell_type": "markdown",
      "source": [
        "**Problem 10: ToDo List Create a class representing a ToDo list with attributes like tasks and due dates. Implement methods to add tasks, mark tasks as completed, and display pending tasks.**"
      ],
      "metadata": {
        "id": "ef29K80ayBRe"
      }
    },
    {
      "cell_type": "code",
      "source": [
        "class Task:\n",
        "    def __init__(self, description, due_date):\n",
        "        self.description = description\n",
        "        self.due_date = due_date\n",
        "        self.completed = False\n",
        "\n",
        "    def mark_as_completed(self):\n",
        "        self.completed = True\n",
        "\n",
        "    def __str__(self):\n",
        "        status = \"Completed\" if self.completed else \"Pending\"\n",
        "        return f\"{self.description} (Due: {self.due_date}) - {status}\"\n",
        "\n",
        "class ToDoList:\n",
        "    def __init__(self):\n",
        "        self.tasks = []\n",
        "\n",
        "    def add_task(self, description, due_date):\n",
        "        \"\"\"Add a new task to the ToDo list.\"\"\"\n",
        "        new_task = Task(description, due_date)\n",
        "        self.tasks.append(new_task)\n",
        "        print(f\"Task '{description}' added with due date {due_date}.\")\n",
        "\n",
        "    def mark_task_as_completed(self, description):\n",
        "        \"\"\"Mark a task as completed.\"\"\"\n",
        "        for task in self.tasks:\n",
        "            if task.description == description:\n",
        "                task.mark_as_completed()\n",
        "                print(f\"Task '{description}' marked as completed.\")\n",
        "                return\n",
        "        print(f\"Task '{description}' not found in the ToDo list.\")\n",
        "\n",
        "    def display_pending_tasks(self):\n",
        "        \"\"\"Display all pending tasks.\"\"\"\n",
        "        pending_tasks = [task for task in self.tasks if not task.completed]\n",
        "        if not pending_tasks:\n",
        "            print(\"No pending tasks.\")\n",
        "        else:\n",
        "            print(\"Pending tasks:\")\n",
        "            for task in pending_tasks:\n",
        "                print(task)\n",
        "\n",
        "# Example usage:\n",
        "todo_list = ToDoList()\n",
        "todo_list.add_task(\"Buy groceries\", \"2024-07-05\")\n",
        "todo_list.add_task(\"Complete project report\", \"2024-07-10\")\n",
        "todo_list.add_task(\"Plan weekend trip\", \"2024-07-15\")\n",
        "\n",
        "todo_list.display_pending_tasks()\n",
        "todo_list.mark_task_as_completed(\"Complete project report\")\n",
        "todo_list.display_pending_tasks()\n"
      ],
      "metadata": {
        "colab": {
          "base_uri": "https://localhost:8080/"
        },
        "id": "YIzBv5uAyD1s",
        "outputId": "da682ef8-6c8f-4830-f6aa-e023fd1864bb"
      },
      "execution_count": 11,
      "outputs": [
        {
          "output_type": "stream",
          "name": "stdout",
          "text": [
            "Task 'Buy groceries' added with due date 2024-07-05.\n",
            "Task 'Complete project report' added with due date 2024-07-10.\n",
            "Task 'Plan weekend trip' added with due date 2024-07-15.\n",
            "Pending tasks:\n",
            "Buy groceries (Due: 2024-07-05) - Pending\n",
            "Complete project report (Due: 2024-07-10) - Pending\n",
            "Plan weekend trip (Due: 2024-07-15) - Pending\n",
            "Task 'Complete project report' marked as completed.\n",
            "Pending tasks:\n",
            "Buy groceries (Due: 2024-07-05) - Pending\n",
            "Plan weekend trip (Due: 2024-07-15) - Pending\n"
          ]
        }
      ]
    }
  ]
}